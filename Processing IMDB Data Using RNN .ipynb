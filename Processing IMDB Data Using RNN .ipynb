{
 "cells": [
  {
   "cell_type": "markdown",
   "id": "3a6421b9",
   "metadata": {},
   "source": [
    "# A recurrent layer in Keras"
   ]
  },
  {
   "cell_type": "code",
   "execution_count": 1,
   "id": "7d098c38",
   "metadata": {},
   "outputs": [],
   "source": [
    "from keras.layers import SimpleRNN"
   ]
  },
  {
   "cell_type": "code",
   "execution_count": 2,
   "id": "524e566e",
   "metadata": {},
   "outputs": [
    {
     "name": "stdout",
     "output_type": "stream",
     "text": [
      "Model: \"sequential\"\n",
      "_________________________________________________________________\n",
      " Layer (type)                Output Shape              Param #   \n",
      "=================================================================\n",
      " embedding (Embedding)       (None, None, 32)          320000    \n",
      "                                                                 \n",
      " simple_rnn (SimpleRNN)      (None, 32)                2080      \n",
      "                                                                 \n",
      "=================================================================\n",
      "Total params: 322,080\n",
      "Trainable params: 322,080\n",
      "Non-trainable params: 0\n",
      "_________________________________________________________________\n"
     ]
    }
   ],
   "source": [
    "from keras.models import Sequential\n",
    "from keras.layers import Embedding, SimpleRNN\n",
    "model = Sequential()\n",
    "model.add(Embedding(10000, 32))\n",
    "model.add(SimpleRNN(32))\n",
    "model.summary()"
   ]
  },
  {
   "cell_type": "code",
   "execution_count": 3,
   "id": "0abd65e1",
   "metadata": {},
   "outputs": [
    {
     "name": "stdout",
     "output_type": "stream",
     "text": [
      "Model: \"sequential_1\"\n",
      "_________________________________________________________________\n",
      " Layer (type)                Output Shape              Param #   \n",
      "=================================================================\n",
      " embedding_1 (Embedding)     (None, None, 32)          320000    \n",
      "                                                                 \n",
      " simple_rnn_1 (SimpleRNN)    (None, None, 32)          2080      \n",
      "                                                                 \n",
      "=================================================================\n",
      "Total params: 322,080\n",
      "Trainable params: 322,080\n",
      "Non-trainable params: 0\n",
      "_________________________________________________________________\n"
     ]
    }
   ],
   "source": [
    "# The following example returns the full state sequence:\n",
    "# return_sequance : it is used to return the sequances as it processes\n",
    "model = Sequential()\n",
    "model.add(Embedding(10000, 32))\n",
    "model.add(SimpleRNN(32, return_sequences=True))\n",
    "model.summary()"
   ]
  },
  {
   "cell_type": "code",
   "execution_count": 5,
   "id": "7cf91a8d",
   "metadata": {},
   "outputs": [
    {
     "name": "stdout",
     "output_type": "stream",
     "text": [
      "Model: \"sequential_3\"\n",
      "_________________________________________________________________\n",
      " Layer (type)                Output Shape              Param #   \n",
      "=================================================================\n",
      " embedding_3 (Embedding)     (None, None, 32)          320000    \n",
      "                                                                 \n",
      " simple_rnn_6 (SimpleRNN)    (None, None, 32)          2080      \n",
      "                                                                 \n",
      " simple_rnn_7 (SimpleRNN)    (None, None, 32)          2080      \n",
      "                                                                 \n",
      " simple_rnn_8 (SimpleRNN)    (None, None, 32)          2080      \n",
      "                                                                 \n",
      " simple_rnn_9 (SimpleRNN)    (None, 32)                2080      \n",
      "                                                                 \n",
      "=================================================================\n",
      "Total params: 328,320\n",
      "Trainable params: 328,320\n",
      "Non-trainable params: 0\n",
      "_________________________________________________________________\n"
     ]
    }
   ],
   "source": [
    "# adding some more layers\n",
    "model = Sequential()\n",
    "model.add(Embedding(10000, 32))\n",
    "model.add(SimpleRNN(32, return_sequences=True))\n",
    "model.add(SimpleRNN(32, return_sequences=True))\n",
    "model.add(SimpleRNN(32, return_sequences=True))\n",
    "model.add(SimpleRNN(32))\n",
    "model.summary()"
   ]
  },
  {
   "cell_type": "markdown",
   "id": "d51baf96",
   "metadata": {},
   "source": [
    "# Preparing the IMDB data"
   ]
  },
  {
   "cell_type": "code",
   "execution_count": 8,
   "id": "5407d408",
   "metadata": {},
   "outputs": [
    {
     "name": "stdout",
     "output_type": "stream",
     "text": [
      "Loading data...\n",
      "25000 train sequences\n",
      "25000 test sequences\n",
      "Pad sequences (samples x time)\n",
      "input_train shape: (25000, 500)\n",
      "input_test shape: (25000, 500)\n"
     ]
    }
   ],
   "source": [
    "from keras.datasets import imdb\n",
    "from tensorflow.keras.preprocessing import sequence\n",
    "max_features = 10000\n",
    "maxlen = 500\n",
    "batch_size = 32\n",
    "print('Loading data...')\n",
    "(input_train, y_train), (input_test, y_test) = imdb.load_data(num_words=max_features)\n",
    "print(len(input_train), 'train sequences')\n",
    "print(len(input_test), 'test sequences')\n",
    "print('Pad sequences (samples x time)')\n",
    "input_train = sequence.pad_sequences(input_train, maxlen=maxlen)\n",
    "input_test = sequence.pad_sequences(input_test, maxlen=maxlen)\n",
    "print('input_train shape:', input_train.shape)\n",
    "print('input_test shape:', input_test.shape)"
   ]
  },
  {
   "cell_type": "markdown",
   "id": "2df21761",
   "metadata": {},
   "source": [
    "# Training the model with Embedding and SimpleRNN layers"
   ]
  },
  {
   "cell_type": "code",
   "execution_count": 10,
   "id": "2ce055bf",
   "metadata": {},
   "outputs": [],
   "source": [
    "from tensorflow.keras.layers import Dense\n",
    "model = Sequential()\n",
    "model.add(Embedding(max_features, 32))\n",
    "model.add(SimpleRNN(32))\n",
    "model.add(Dense(1, activation='sigmoid'))\n"
   ]
  },
  {
   "cell_type": "code",
   "execution_count": 11,
   "id": "717ae70a",
   "metadata": {},
   "outputs": [
    {
     "name": "stdout",
     "output_type": "stream",
     "text": [
      "Epoch 1/10\n",
      "157/157 [==============================] - 45s 266ms/step - loss: 0.6181 - acc: 0.6432 - val_loss: 0.6762 - val_acc: 0.6190\n",
      "Epoch 2/10\n",
      "157/157 [==============================] - 42s 264ms/step - loss: 0.4040 - acc: 0.8256 - val_loss: 0.3815 - val_acc: 0.8386\n",
      "Epoch 3/10\n",
      "157/157 [==============================] - 40s 257ms/step - loss: 0.3026 - acc: 0.8769 - val_loss: 0.4016 - val_acc: 0.8232\n",
      "Epoch 4/10\n",
      "157/157 [==============================] - 40s 254ms/step - loss: 0.2437 - acc: 0.9041 - val_loss: 0.4277 - val_acc: 0.8102\n",
      "Epoch 5/10\n",
      "157/157 [==============================] - 42s 264ms/step - loss: 0.1778 - acc: 0.9334 - val_loss: 0.3898 - val_acc: 0.8522\n",
      "Epoch 6/10\n",
      "157/157 [==============================] - 41s 262ms/step - loss: 0.1198 - acc: 0.9592 - val_loss: 0.5586 - val_acc: 0.8338\n",
      "Epoch 7/10\n",
      "157/157 [==============================] - 41s 259ms/step - loss: 0.0743 - acc: 0.9760 - val_loss: 0.5484 - val_acc: 0.8036\n",
      "Epoch 8/10\n",
      "157/157 [==============================] - 42s 267ms/step - loss: 0.0506 - acc: 0.9857 - val_loss: 0.5361 - val_acc: 0.8458\n",
      "Epoch 9/10\n",
      "157/157 [==============================] - 41s 264ms/step - loss: 0.0324 - acc: 0.9915 - val_loss: 0.6216 - val_acc: 0.8192\n",
      "Epoch 10/10\n",
      "157/157 [==============================] - 42s 265ms/step - loss: 0.0238 - acc: 0.9932 - val_loss: 0.7466 - val_acc: 0.8014\n"
     ]
    }
   ],
   "source": [
    "model.compile(optimizer='rmsprop', loss='binary_crossentropy', metrics=['acc'])\n",
    "history = model.fit(input_train, y_train,\n",
    "epochs=10,\n",
    "batch_size=128,\n",
    "validation_split=0.2)"
   ]
  },
  {
   "cell_type": "code",
   "execution_count": 12,
   "id": "58238701",
   "metadata": {},
   "outputs": [
    {
     "data": {
      "image/png": "[encoded data removed]",
      "text/plain": [
       "<Figure size 432x288 with 1 Axes>"
      ]
     },
     "metadata": {
      "needs_background": "light"
     },
     "output_type": "display_data"
    },
    {
     "data": {
      "image/png": "[encoded data removed]",
      "text/plain": [
       "<Figure size 432x288 with 1 Axes>"
      ]
     },
     "metadata": {
      "needs_background": "light"
     },
     "output_type": "display_data"
    }
   ],
   "source": [
    "import matplotlib.pyplot as plt\n",
    "acc = history.history['acc']\n",
    "val_acc = history.history['val_acc']\n",
    "loss = history.history['loss']\n",
    "val_loss = history.history['val_loss']\n",
    "epochs = range(1, len(acc) + 1)\n",
    "plt.plot(epochs, acc, 'bo', label='Training acc')\n",
    "plt.plot(epochs, val_acc, 'b', label='Validation acc')\n",
    "plt.title('Training and validation accuracy')\n",
    "plt.legend()\n",
    "plt.figure()\n",
    "plt.plot(epochs, loss, 'bo', label='Training loss')\n",
    "plt.plot(epochs, val_loss, 'b', label='Validation loss')\n",
    "plt.title('Training and validation loss')\n",
    "plt.legend()\n",
    "plt.show()\n"
   ]
  },
  {
   "cell_type": "markdown",
   "id": "8d54ef6e",
   "metadata": {},
   "source": [
    "# Using the LSTM layer in Keras"
   ]
  },
  {
   "cell_type": "code",
   "execution_count": 13,
   "id": "2a5782e6",
   "metadata": {},
   "outputs": [
    {
     "name": "stdout",
     "output_type": "stream",
     "text": [
      "Epoch 1/10\n",
      "157/157 [==============================] - 121s 727ms/step - loss: 0.5794 - acc: 0.6916 - val_loss: 0.4858 - val_acc: 0.7666\n",
      "Epoch 2/10\n",
      "157/157 [==============================] - 99s 627ms/step - loss: 0.3494 - acc: 0.8554 - val_loss: 0.5288 - val_acc: 0.8058\n",
      "Epoch 3/10\n",
      "157/157 [==============================] - 113s 719ms/step - loss: 0.2693 - acc: 0.8945 - val_loss: 0.4499 - val_acc: 0.8346\n",
      "Epoch 4/10\n",
      "157/157 [==============================] - 107s 683ms/step - loss: 0.2292 - acc: 0.9126 - val_loss: 0.2947 - val_acc: 0.8726\n",
      "Epoch 5/10\n",
      "157/157 [==============================] - 112s 713ms/step - loss: 0.1967 - acc: 0.9255 - val_loss: 0.4856 - val_acc: 0.8378\n",
      "Epoch 6/10\n",
      "157/157 [==============================] - 120s 763ms/step - loss: 0.1736 - acc: 0.9374 - val_loss: 0.4299 - val_acc: 0.8362\n",
      "Epoch 7/10\n",
      "157/157 [==============================] - 115s 731ms/step - loss: 0.1642 - acc: 0.9431 - val_loss: 0.3022 - val_acc: 0.8812\n",
      "Epoch 8/10\n",
      "157/157 [==============================] - 104s 662ms/step - loss: 0.1450 - acc: 0.9488 - val_loss: 0.3666 - val_acc: 0.8788\n",
      "Epoch 9/10\n",
      "157/157 [==============================] - 101s 643ms/step - loss: 0.1312 - acc: 0.9553 - val_loss: 0.3397 - val_acc: 0.8694\n",
      "Epoch 10/10\n",
      "157/157 [==============================] - 113s 723ms/step - loss: 0.1226 - acc: 0.9588 - val_loss: 0.5361 - val_acc: 0.8620\n"
     ]
    }
   ],
   "source": [
    "from keras.layers import LSTM\n",
    "model = Sequential()\n",
    "model.add(Embedding(max_features, 32))\n",
    "model.add(LSTM(32))\n",
    "model.add(Dense(1, activation='sigmoid'))\n",
    "model.compile(optimizer='rmsprop',\n",
    "loss='binary_crossentropy',\n",
    "metrics=['acc'])\n",
    "history = model.fit(input_train, y_train,\n",
    "epochs=10,\n",
    "batch_size=128,\n",
    "validation_split=0.2)"
   ]
  },
  {
   "cell_type": "code",
   "execution_count": null,
   "id": "8914b003",
   "metadata": {},
   "outputs": [],
   "source": []
  }
 ],
 "metadata": {
  "kernelspec": {
   "display_name": "Python 3 (ipykernel)",
   "language": "python",
   "name": "python3"
  },
  "language_info": {
   "codemirror_mode": {
    "name": "ipython",
    "version": 3
   },
   "file_extension": ".py",
   "mimetype": "text/x-python",
   "name": "python",
   "nbconvert_exporter": "python",
   "pygments_lexer": "ipython3",
   "version": "3.9.12"
  }
 },
 "nbformat": 4,
 "nbformat_minor": 5
}
