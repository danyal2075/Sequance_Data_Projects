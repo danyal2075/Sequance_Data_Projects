{
 "cells": [
  {
   "cell_type": "markdown",
   "id": "3b770848",
   "metadata": {},
   "source": [
    "#  Using the Custom TextVectorization layer"
   ]
  },
  {
   "cell_type": "code",
   "execution_count": 3,
   "id": "1d3d1a05",
   "metadata": {},
   "outputs": [],
   "source": [
    "import string\n",
    "class Vectorizer:\n",
    "     def standardize(self, text):\n",
    "         text = text.lower()\n",
    "         return \"\".join(char for char in text\n",
    "             if char not in string.punctuation)\n",
    "     def tokenize(self, text):\n",
    "         text = self.standardize(text)\n",
    "         return text.split()\n",
    "     def make_vocabulary(self, dataset):\n",
    "         self.vocabulary = {\"\": 0, \"[UNK]\": 1}\n",
    "         for text in dataset:\n",
    "             text = self.standardize(text)\n",
    "             tokens = self.tokenize(text)\n",
    "             for token in tokens:\n",
    "                 if token not in self.vocabulary:\n",
    "                     self.vocabulary[token] = len(self.vocabulary)\n",
    "         self.inverse_vocabulary = dict(\n",
    "             (v, k) for k, v in self.vocabulary.items())\n",
    "     def encode(self, text):\n",
    "         text = self.standardize(text)\n",
    "         tokens = self.tokenize(text)\n",
    "         return [self.vocabulary.get(token, 1) for token in tokens]\n",
    "     def decode(self, int_sequence):\n",
    "         return \" \".join(\n",
    "             self.inverse_vocabulary.get(i, \"[UNK]\") for i in int_sequence)\n",
    "vectorizer = Vectorizer()\n",
    "dataset = [\n",
    " \"I write, erase, rewrite\",\n",
    " \"Erase again, and then\",\n",
    " \"A poppy blooms.\",\n",
    "]\n",
    "vectorizer.make_vocabulary(dataset)"
   ]
  },
  {
   "cell_type": "code",
   "execution_count": 4,
   "id": "1e5c7500",
   "metadata": {},
   "outputs": [
    {
     "name": "stdout",
     "output_type": "stream",
     "text": [
      "[2, 3, 5, 7, 1, 5, 6]\n"
     ]
    }
   ],
   "source": [
    "test_sentence = \"I write, rewrite, and still rewrite again\"\n",
    "encoded_sentence = vectorizer.encode(test_sentence)\n",
    "print(encoded_sentence)"
   ]
  },
  {
   "cell_type": "code",
   "execution_count": 5,
   "id": "4503222b",
   "metadata": {},
   "outputs": [
    {
     "name": "stdout",
     "output_type": "stream",
     "text": [
      "i write rewrite and [UNK] rewrite again\n"
     ]
    }
   ],
   "source": [
    "decoded_sentence = vectorizer.decode(encoded_sentence)\n",
    "print(decoded_sentence)"
   ]
  },
  {
   "cell_type": "markdown",
   "id": "3a673be3",
   "metadata": {},
   "source": [
    "# Using Custom textvectorization layer using tf"
   ]
  },
  {
   "cell_type": "code",
   "execution_count": 6,
   "id": "673c5639",
   "metadata": {},
   "outputs": [],
   "source": [
    "from tensorflow.keras.layers import TextVectorization\n",
    "import re\n",
    "import string\n",
    "import tensorflow as tf\n",
    "def custom_standardization_fn(string_tensor):\n",
    " lowercase_string = tf.strings.lower(string_tensor)\n",
    " return tf.strings.regex_replace(\n",
    "     lowercase_string, f\"[{re.escape(string.punctuation)}]\", \"\")\n",
    "\n",
    "def custom_split_fn(string_tensor):\n",
    " return tf.strings.split(string_tensor)\n",
    "\n",
    "text_vectorization = TextVectorization(\n",
    " output_mode=\"int\",\n",
    " standardize=custom_standardization_fn,\n",
    " split=custom_split_fn,\n",
    ")\n",
    "\n",
    "\n",
    "dataset = [\n",
    " \"I write, erase, rewrite\",\n",
    " \"Erase again, and then\",\n",
    " \"A poppy blooms.\",\n",
    "]\n",
    "text_vectorization.adapt(dataset)"
   ]
  },
  {
   "cell_type": "code",
   "execution_count": 7,
   "id": "6d9d86ee",
   "metadata": {},
   "outputs": [
    {
     "data": {
      "text/plain": [
       "['',\n",
       " '[UNK]',\n",
       " 'erase',\n",
       " 'write',\n",
       " 'then',\n",
       " 'rewrite',\n",
       " 'poppy',\n",
       " 'i',\n",
       " 'blooms',\n",
       " 'and',\n",
       " 'again',\n",
       " 'a']"
      ]
     },
     "execution_count": 7,
     "metadata": {},
     "output_type": "execute_result"
    }
   ],
   "source": [
    "# displaying Vocabulary\n",
    "text_vectorization.get_vocabulary()\n"
   ]
  },
  {
   "cell_type": "code",
   "execution_count": null,
   "id": "38cca75a",
   "metadata": {},
   "outputs": [],
   "source": []
  },
  {
   "cell_type": "code",
   "execution_count": null,
   "id": "fb9d47e1",
   "metadata": {},
   "outputs": [],
   "source": []
  }
 ],
 "metadata": {
  "kernelspec": {
   "display_name": "Python 3 (ipykernel)",
   "language": "python",
   "name": "python3"
  },
  "language_info": {
   "codemirror_mode": {
    "name": "ipython",
    "version": 3
   },
   "file_extension": ".py",
   "mimetype": "text/x-python",
   "name": "python",
   "nbconvert_exporter": "python",
   "pygments_lexer": "ipython3",
   "version": "3.9.12"
  }
 },
 "nbformat": 4,
 "nbformat_minor": 5
}
